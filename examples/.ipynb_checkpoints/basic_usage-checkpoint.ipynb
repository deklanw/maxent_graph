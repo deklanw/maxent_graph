{
 "cells": [
  {
   "cell_type": "code",
   "execution_count": 1,
   "metadata": {},
   "outputs": [
    {
     "ename": "ModuleNotFoundError",
     "evalue": "No module named 'maxent_graph'",
     "output_type": "error",
     "traceback": [
      "\u001b[0;31m---------------------------------------------------------------------------\u001b[0m",
      "\u001b[0;31mModuleNotFoundError\u001b[0m                       Traceback (most recent call last)",
      "\u001b[0;32m<ipython-input-1-5f3d7eff3399>\u001b[0m in \u001b[0;36m<module>\u001b[0;34m\u001b[0m\n\u001b[1;32m      4\u001b[0m \u001b[0;32mfrom\u001b[0m \u001b[0mcollections\u001b[0m \u001b[0;32mimport\u001b[0m \u001b[0mCounter\u001b[0m\u001b[0;34m\u001b[0m\u001b[0;34m\u001b[0m\u001b[0m\n\u001b[1;32m      5\u001b[0m \u001b[0;34m\u001b[0m\u001b[0m\n\u001b[0;32m----> 6\u001b[0;31m \u001b[0;32mfrom\u001b[0m \u001b[0mmaxent_graph\u001b[0m \u001b[0;32mimport\u001b[0m \u001b[0mbicm\u001b[0m\u001b[0;34m,\u001b[0m \u001b[0mpoibin\u001b[0m\u001b[0;34m\u001b[0m\u001b[0;34m\u001b[0m\u001b[0m\n\u001b[0m",
      "\u001b[0;31mModuleNotFoundError\u001b[0m: No module named 'maxent_graph'"
     ]
    }
   ],
   "source": [
    "import igraph as ig\n",
    "import scipy.sparse\n",
    "import re\n",
    "from collections import Counter\n",
    "\n",
    "from maxent_graph import bicm, poibin"
   ]
  },
  {
   "cell_type": "markdown",
   "metadata": {},
   "source": [
    "Let's try projecting a bipartite network of senators and bills onto the senators. The data comes from the 116th congress, https://github.com/unitedstates/congress/wiki/bills"
   ]
  },
  {
   "cell_type": "markdown",
   "metadata": {},
   "source": [
    "Read the graph in and construct a bipartite matrix using igraph."
   ]
  },
  {
   "cell_type": "code",
   "execution_count": null,
   "metadata": {},
   "outputs": [],
   "source": [
    "gn = \"my_senate_116_bipartite\"\n",
    "g = ig.read(f\"../data/{gn}.graphml\", format=\"graphml\")\n",
    "assert g.is_bipartite()\n",
    "B = scipy.sparse.csr_matrix(g.get_incidence()[0])"
   ]
  },
  {
   "cell_type": "code",
   "execution_count": null,
   "metadata": {
    "scrolled": true
   },
   "outputs": [],
   "source": [
    "B"
   ]
  },
  {
   "cell_type": "markdown",
   "metadata": {},
   "source": [
    "By convention we project onto the rows. In this case I want the senators, who are on the columns currently. So, I transpose."
   ]
  },
  {
   "cell_type": "code",
   "execution_count": null,
   "metadata": {},
   "outputs": [],
   "source": [
    "B = B.T"
   ]
  },
  {
   "cell_type": "markdown",
   "metadata": {},
   "source": [
    "Solve the equations to get the fitnesses for each node on both sides."
   ]
  },
  {
   "cell_type": "code",
   "execution_count": null,
   "metadata": {},
   "outputs": [],
   "source": [
    "# sol_bundle = bicm.solve_equations_kitchen_sink(B)\n",
    "sol_bundle = bicm.solve_equations(B, initial_guess_option=2, method=\"lm\")"
   ]
  },
  {
   "cell_type": "code",
   "execution_count": null,
   "metadata": {},
   "outputs": [],
   "source": [
    "B.shape"
   ]
  },
  {
   "cell_type": "markdown",
   "metadata": {},
   "source": [
    "Using the previously computed fitnesses, construct the projection using a particular p-value. To keep a record of *how* significant the edge is according to the null model, we keep the 'surprise' of the edge as a weight."
   ]
  },
  {
   "cell_type": "code",
   "execution_count": null,
   "metadata": {
    "scrolled": true
   },
   "outputs": [],
   "source": [
    "new_A = bicm.construct_projection(B, sol_bundle, p_val=0.05)"
   ]
  },
  {
   "cell_type": "markdown",
   "metadata": {},
   "source": [
    "Let's visualize the results using igraph. Getting this weighted adjacency matrix into igraph is a bit annoying but here goes.. \n",
    "\n",
    "https://igraph.org/python/doc/tutorial/tutorial.html#layouts-and-plotting"
   ]
  },
  {
   "cell_type": "code",
   "execution_count": null,
   "metadata": {},
   "outputs": [],
   "source": [
    "sources, targets = new_A.nonzero()\n",
    "edgelist = list(zip(sources.tolist(), targets.tolist()))\n",
    "\n",
    "# https://github.com/igraph/python-igraph/issues/168\n",
    "# zzz\n",
    "new_g = ig.Graph(new_A.shape[0], edgelist)\n",
    "\n",
    "new_g.es['surprise'] = new_A[new_A.nonzero()].toarray()[0]"
   ]
  },
  {
   "cell_type": "code",
   "execution_count": null,
   "metadata": {},
   "outputs": [],
   "source": [
    "(new_g.vcount(), new_g.ecount())"
   ]
  },
  {
   "cell_type": "code",
   "execution_count": null,
   "metadata": {},
   "outputs": [],
   "source": [
    "# l = new_g.layout_kamada_kawai()\n",
    "# l = new_g.layout_lgl()\n",
    "l = new_g.layout_fruchterman_reingold(weights=new_g.es[\"surprise\"])\n",
    "\n",
    "# trash\n",
    "# l = new_g.layout_drl(weights=new_g.es[\"surprise\"])"
   ]
  },
  {
   "cell_type": "markdown",
   "metadata": {},
   "source": [
    "Leiden is a good quick community detection algorithm."
   ]
  },
  {
   "cell_type": "code",
   "execution_count": null,
   "metadata": {},
   "outputs": [],
   "source": [
    "clusters = new_g.community_leiden(objective_function='CPM',\n",
    "                              weights=new_g.es[\"surprise\"],\n",
    "                              resolution_parameter=0.5, beta=0.01,\n",
    "                              initial_membership=None, n_iterations=10, node_weights=None)"
   ]
  },
  {
   "cell_type": "code",
   "execution_count": null,
   "metadata": {
    "scrolled": true
   },
   "outputs": [],
   "source": [
    "for c in clusters:\n",
    "    print(c)"
   ]
  },
  {
   "cell_type": "code",
   "execution_count": null,
   "metadata": {},
   "outputs": [],
   "source": [
    "# https://carto.com/carto-colors/\n",
    "PASTEL_CARTO = ['#66C5CC','#F6CF71','#F89C74','#DCB0F2','#87C55F','#9EB9F3',\n",
    "                '#FE88B1','#C9DB74','#8BE0A4','#B497E7','#D3B484','#B3B3B3']"
   ]
  },
  {
   "cell_type": "code",
   "execution_count": null,
   "metadata": {},
   "outputs": [],
   "source": [
    "assert len(clusters) <= len(PASTEL_CARTO)"
   ]
  },
  {
   "cell_type": "code",
   "execution_count": null,
   "metadata": {},
   "outputs": [],
   "source": [
    "community_assignment = [0 for _ in range(new_g.vcount())]\n",
    "\n",
    "for i, c in enumerate(clusters):\n",
    "    for v in c:\n",
    "        community_assignment[v] = i"
   ]
  },
  {
   "cell_type": "code",
   "execution_count": null,
   "metadata": {},
   "outputs": [],
   "source": [
    "new_g.vs['color'] = [PASTEL_CARTO[c] for c in community_assignment]"
   ]
  },
  {
   "cell_type": "code",
   "execution_count": null,
   "metadata": {},
   "outputs": [],
   "source": [
    "party_re = re.compile(\".*\\(..-(D|R|I)\\)\")\n",
    "\n",
    "party = []\n",
    "senator_names = g.vs['name'][:(B.shape[0])]\n",
    "for n in senator_names:\n",
    "    m = party_re.match(n)\n",
    "    if m is None:\n",
    "        print(n)\n",
    "    p = m.group(1)\n",
    "    party.append(p)\n",
    "    \n",
    "Counter(party)"
   ]
  },
  {
   "cell_type": "code",
   "execution_count": null,
   "metadata": {},
   "outputs": [],
   "source": [
    "senator_names[0]"
   ]
  },
  {
   "cell_type": "code",
   "execution_count": null,
   "metadata": {},
   "outputs": [],
   "source": [
    "def map_party(p):\n",
    "    if p == 'R':\n",
    "        return 'square'\n",
    "    elif p == 'D':\n",
    "        return 'triangle'\n",
    "    elif p == 'I':\n",
    "        return 'circle'\n",
    "    assert False"
   ]
  },
  {
   "cell_type": "code",
   "execution_count": null,
   "metadata": {},
   "outputs": [],
   "source": [
    "shapes = [map_party(p) for p in party]"
   ]
  },
  {
   "cell_type": "code",
   "execution_count": null,
   "metadata": {},
   "outputs": [],
   "source": [
    "shapes[:5]"
   ]
  },
  {
   "cell_type": "code",
   "execution_count": null,
   "metadata": {},
   "outputs": [],
   "source": [
    "new_g.vs['shape'] = shapes\n",
    "new_g.vs['label'] = senator_names\n",
    "new_g.vs['label_size'] = [7 for v in new_g.vs]"
   ]
  },
  {
   "cell_type": "code",
   "execution_count": null,
   "metadata": {
    "scrolled": true
   },
   "outputs": [],
   "source": [
    "ig.plot(new_g, layout=l, vertex_size=10)"
   ]
  }
 ],
 "metadata": {
  "kernelspec": {
   "display_name": "Python 3",
   "language": "python",
   "name": "python3"
  },
  "language_info": {
   "codemirror_mode": {
    "name": "ipython",
    "version": 3
   },
   "file_extension": ".py",
   "mimetype": "text/x-python",
   "name": "python",
   "nbconvert_exporter": "python",
   "pygments_lexer": "ipython3",
   "version": "3.8.2"
  }
 },
 "nbformat": 4,
 "nbformat_minor": 4
}
